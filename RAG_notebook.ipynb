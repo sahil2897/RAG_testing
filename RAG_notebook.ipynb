{
 "cells": [
  {
   "cell_type": "code",
   "execution_count": 1,
   "id": "d4470b48-c18e-41ce-9eef-211c17bd9266",
   "metadata": {},
   "outputs": [
    {
     "name": "stderr",
     "output_type": "stream",
     "text": [
      "/Users/sahilsharma/miniconda3/envs/rag_qa/lib/python3.11/site-packages/langchain_core/_api/deprecation.py:117: LangChainDeprecationWarning: The class `langchain_community.embeddings.openai.OpenAIEmbeddings` was deprecated in langchain-community 0.1.0 and will be removed in 0.2.0. An updated version of the class exists in the langchain-openai package and should be used instead. To use it run `pip install -U langchain-openai` and import as `from langchain_openai import OpenAIEmbeddings`.\n",
      "  warn_deprecated(\n"
     ]
    }
   ],
   "source": [
    "import os\n",
    "import openai\n",
    "import sys\n",
    "sys.path.append('../..')\n",
    "\n",
    "from dotenv import load_dotenv, find_dotenv\n",
    "_ = load_dotenv(find_dotenv()) # read local .env file\n",
    "\n",
    "openai.api_key  = os.environ['OPENAI_API_KEY']\n",
    "\n",
    "from langchain.text_splitter import RecursiveCharacterTextSplitter, CharacterTextSplitter\n",
    "from langchain_community.document_loaders import ToMarkdownLoader\n",
    "\n",
    "from langchain.embeddings.openai import OpenAIEmbeddings\n",
    "embedding = OpenAIEmbeddings()\n",
    "\n",
    "from langchain.document_loaders import TextLoader\n",
    "from langchain.text_splitter import MarkdownTextSplitter\n",
    "\n",
    "from langchain_community.document_loaders import UnstructuredMarkdownLoader"
   ]
  },
  {
   "cell_type": "code",
   "execution_count": 2,
   "id": "9a5d98b3-7186-4da0-9fb4-14459ce75d41",
   "metadata": {},
   "outputs": [],
   "source": [
    "loaders = [\n",
    "            UnstructuredMarkdownLoader(\"malware_xsoar.md\"),\n",
    "            UnstructuredMarkdownLoader(\"phishing_xsoar.md\"),\n",
    "        ]\n",
    "\n",
    "docs = []\n",
    "for loader in loaders:\n",
    "    docs.extend(loader.load())"
   ]
  },
  {
   "cell_type": "code",
   "execution_count": 5,
   "id": "b6ab5db0-89fe-4904-9ff8-afe16f2d8586",
   "metadata": {},
   "outputs": [
    {
     "data": {
      "text/plain": [
       "'Malware: Customer Conversations\\n\\nTo help scale and automate investigations like this, we at Cortex XSOAR built the Malware Investigation and Response '"
      ]
     },
     "execution_count": 5,
     "metadata": {},
     "output_type": "execute_result"
    }
   ],
   "source": [
    "docs[0].page_content[:150]"
   ]
  },
  {
   "cell_type": "code",
   "execution_count": 6,
   "id": "3c156762-2a34-46f6-8331-d731f36a54fc",
   "metadata": {},
   "outputs": [],
   "source": [
    "from langchain.text_splitter import RecursiveCharacterTextSplitter\n",
    "text_splitter = RecursiveCharacterTextSplitter(\n",
    "    chunk_size = 500,\n",
    "    chunk_overlap = 50\n",
    ")\n",
    "\n",
    "splits = text_splitter.split_documents(docs)"
   ]
  },
  {
   "cell_type": "code",
   "execution_count": 7,
   "id": "ff9fccba-f8ad-4b15-9099-9e2f978568fb",
   "metadata": {},
   "outputs": [
    {
     "data": {
      "text/plain": [
       "37"
      ]
     },
     "execution_count": 7,
     "metadata": {},
     "output_type": "execute_result"
    }
   ],
   "source": [
    "len(splits)"
   ]
  },
  {
   "cell_type": "code",
   "execution_count": 8,
   "id": "e47369ba-3348-44ca-903f-e7b45f54fc15",
   "metadata": {},
   "outputs": [],
   "source": [
    "from langchain.vectorstores import Chroma\n",
    "persist_directory = 'docs/chroma/recursive'"
   ]
  },
  {
   "cell_type": "code",
   "execution_count": 9,
   "id": "a7e91da9-78a8-4995-9f38-f12f55a7c284",
   "metadata": {},
   "outputs": [],
   "source": [
    "vectordb = Chroma.from_documents(\n",
    "    documents=splits,\n",
    "    embedding=embedding,\n",
    "    persist_directory=persist_directory\n",
    ")"
   ]
  },
  {
   "cell_type": "code",
   "execution_count": 10,
   "id": "a75bd6cc-6f89-4001-97f9-7f8ce66e1cd9",
   "metadata": {},
   "outputs": [
    {
     "name": "stdout",
     "output_type": "stream",
     "text": [
      "74\n"
     ]
    }
   ],
   "source": [
    "print(vectordb._collection.count())"
   ]
  },
  {
   "cell_type": "code",
   "execution_count": 11,
   "id": "4b2ff75a-bb81-4698-aca4-27c585e35d39",
   "metadata": {},
   "outputs": [],
   "source": [
    "question = \"how do you analyse the message in a phishing mail\"\n"
   ]
  },
  {
   "cell_type": "code",
   "execution_count": 12,
   "id": "e96d686d-75a0-4c10-bab8-6487868b7974",
   "metadata": {},
   "outputs": [
    {
     "data": {
      "text/plain": [
       "3"
      ]
     },
     "execution_count": 12,
     "metadata": {},
     "output_type": "execute_result"
    }
   ],
   "source": [
    "docs_result = vectordb.similarity_search(question,k=3)\n",
    "len(docs_result)"
   ]
  },
  {
   "cell_type": "code",
   "execution_count": 13,
   "id": "52327cea-0193-4695-b105-309efbac19d2",
   "metadata": {},
   "outputs": [
    {
     "data": {
      "text/plain": [
       "[Document(page_content=\"When a keyword is found in the email body, it will be displayed in the layout “Investigation” tab in a tag field, under the “Spear Phishing Investigation” section.\\n\\nSince it's a tag type field, the analyst can search and filter incidents and identify phishing mails containing the same keywords.\\n\\nDetermine phishing mail sender verdict as malicious\\n\\nOnce a phishing incident verdict is determined as malicious, the email sender address verdict will be set as malicious as well.\", metadata={'source': 'phishing_xsoar.md'}),\n",
       " Document(page_content=\"When a keyword is found in the email body, it will be displayed in the layout “Investigation” tab in a tag field, under the “Spear Phishing Investigation” section.\\n\\nSince it's a tag type field, the analyst can search and filter incidents and identify phishing mails containing the same keywords.\\n\\nDetermine phishing mail sender verdict as malicious\\n\\nOnce a phishing incident verdict is determined as malicious, the email sender address verdict will be set as malicious as well.\", metadata={'source': 'phishing_xsoar.md'}),\n",
       " Document(page_content=\"When the Cortex XSOAR TIM module classifies the sender's email address in a phishing email as malicious, it triggers the marking of that email address as malicious in any subsequent phishing incidents linked to it. This ensures that analysts and playbooks will consider this classification when making their final determination about the incident verdict.\\n\\nConclusion\", metadata={'source': 'phishing_xsoar.md'})]"
      ]
     },
     "execution_count": 13,
     "metadata": {},
     "output_type": "execute_result"
    }
   ],
   "source": [
    "docs_result"
   ]
  },
  {
   "cell_type": "code",
   "execution_count": 14,
   "id": "6256485d-5580-4464-b961-5fc7eeabd5b4",
   "metadata": {},
   "outputs": [],
   "source": [
    "llm_name = \"gpt-3.5-turbo\""
   ]
  },
  {
   "cell_type": "code",
   "execution_count": 15,
   "id": "316af633-c879-4905-a32b-c564ebdc6819",
   "metadata": {},
   "outputs": [],
   "source": [
    "from langchain.vectorstores import Chroma\n",
    "from langchain.embeddings.openai import OpenAIEmbeddings\n",
    "embedding = OpenAIEmbeddings()\n",
    "vectordb = Chroma(persist_directory=persist_directory, embedding_function=embedding)"
   ]
  },
  {
   "cell_type": "code",
   "execution_count": 16,
   "id": "ae071dbe-47bf-46d6-8d11-c3810c4a5b34",
   "metadata": {},
   "outputs": [
    {
     "data": {
      "text/plain": [
       "3"
      ]
     },
     "execution_count": 16,
     "metadata": {},
     "output_type": "execute_result"
    }
   ],
   "source": [
    "question = \"Can you summarise the phishing playbook?\"\n",
    "docs = vectordb.similarity_search(question,k=3)\n",
    "len(docs)"
   ]
  },
  {
   "cell_type": "code",
   "execution_count": 17,
   "id": "76d053ae-49cd-4d01-8841-27aad40515f9",
   "metadata": {},
   "outputs": [
    {
     "name": "stderr",
     "output_type": "stream",
     "text": [
      "/Users/sahilsharma/miniconda3/envs/rag_qa/lib/python3.11/site-packages/langchain_core/_api/deprecation.py:117: LangChainDeprecationWarning: The class `langchain_community.chat_models.openai.ChatOpenAI` was deprecated in langchain-community 0.0.10 and will be removed in 0.2.0. An updated version of the class exists in the langchain-openai package and should be used instead. To use it run `pip install -U langchain-openai` and import as `from langchain_openai import ChatOpenAI`.\n",
      "  warn_deprecated(\n"
     ]
    }
   ],
   "source": [
    "from langchain.chat_models import ChatOpenAI\n",
    "llm = ChatOpenAI(model_name=llm_name, temperature=0)"
   ]
  },
  {
   "cell_type": "code",
   "execution_count": 18,
   "id": "878c5103-c57d-484e-8ecc-01c2929aaa36",
   "metadata": {},
   "outputs": [],
   "source": [
    "from langchain.chains import RetrievalQA"
   ]
  },
  {
   "cell_type": "code",
   "execution_count": 19,
   "id": "e2e82fcf-9c45-481c-8502-5476507156f6",
   "metadata": {},
   "outputs": [],
   "source": [
    "qa_chain = RetrievalQA.from_chain_type(\n",
    "    llm,\n",
    "    retriever=vectordb.as_retriever(),return_source_documents=True\n",
    ")"
   ]
  },
  {
   "cell_type": "code",
   "execution_count": 20,
   "id": "41b4e3a9-6abe-45e4-8eb4-99263047911b",
   "metadata": {},
   "outputs": [
    {
     "name": "stderr",
     "output_type": "stream",
     "text": [
      "/Users/sahilsharma/miniconda3/envs/rag_qa/lib/python3.11/site-packages/langchain_core/_api/deprecation.py:117: LangChainDeprecationWarning: The function `__call__` was deprecated in LangChain 0.1.0 and will be removed in 0.2.0. Use invoke instead.\n",
      "  warn_deprecated(\n"
     ]
    }
   ],
   "source": [
    "result = qa_chain({\"query\": question})"
   ]
  },
  {
   "cell_type": "code",
   "execution_count": 21,
   "id": "b1694ff2-322e-4376-83ce-28ba7196b375",
   "metadata": {},
   "outputs": [
    {
     "data": {
      "text/plain": [
       "'The phishing playbook in the Cortex Marketplace content pack includes features for responding to phishing campaigns in 2023. It emphasizes immediate action upon detecting phishing attempts to mitigate harm by blocking associated indicators. The playbook includes a sub-playbook called \"Spear Phishing Investigation\" where analysts can input keywords related to the organization to detect their presence in phishing emails, helping to identify potential threats.'"
      ]
     },
     "execution_count": 21,
     "metadata": {},
     "output_type": "execute_result"
    }
   ],
   "source": [
    "result[\"result\"]"
   ]
  },
  {
   "cell_type": "code",
   "execution_count": 22,
   "id": "86d56f23-937b-45f9-896e-d8c770d44d2e",
   "metadata": {},
   "outputs": [
    {
     "data": {
      "text/plain": [
       "{'query': 'Can you summarise the phishing playbook?',\n",
       " 'result': 'The phishing playbook in the Cortex Marketplace content pack includes features for responding to phishing campaigns in 2023. It emphasizes immediate action upon detecting phishing attempts to mitigate harm by blocking associated indicators. The playbook includes a sub-playbook called \"Spear Phishing Investigation\" where analysts can input keywords related to the organization to detect their presence in phishing emails, helping to identify potential threats.',\n",
       " 'source_documents': [Document(page_content=\"We’ve added new features to our most popular Cortex Marketplace content pack to help you better respond to phishing campaigns in 2023.\\n\\nPhishing - Generic v3 Playbook\\n\\nSemi-Automated Remediation\\n\\nWhen detecting phishing attempts, immediate action is essential to mitigate potential harm. By blocking indicators associated with the phishing attempt, we limit the attackers' ability to execute their malicious operations successfully and prevent further spread of the phishing campaign.\", metadata={'source': 'phishing_xsoar.md'}),\n",
       "  Document(page_content=\"We’ve added new features to our most popular Cortex Marketplace content pack to help you better respond to phishing campaigns in 2023.\\n\\nPhishing - Generic v3 Playbook\\n\\nSemi-Automated Remediation\\n\\nWhen detecting phishing attempts, immediate action is essential to mitigate potential harm. By blocking indicators associated with the phishing attempt, we limit the attackers' ability to execute their malicious operations successfully and prevent further spread of the phishing campaign.\", metadata={'source': 'phishing_xsoar.md'}),\n",
       "  Document(page_content='Using the “ Spear Phishing Investigation” sub-playbook, analysts can select a list of keywords associated with the organization, like names of stakeholders or systems and applications that are being used, and detect whether they exist in the phishing mail content.\\n\\nThe keywords can be provided via the playbook input “KeyWordsToSearch” as a comma-separated list or as XSOAR list object.', metadata={'source': 'phishing_xsoar.md'}),\n",
       "  Document(page_content='Using the “ Spear Phishing Investigation” sub-playbook, analysts can select a list of keywords associated with the organization, like names of stakeholders or systems and applications that are being used, and detect whether they exist in the phishing mail content.\\n\\nThe keywords can be provided via the playbook input “KeyWordsToSearch” as a comma-separated list or as XSOAR list object.', metadata={'source': 'phishing_xsoar.md'})]}"
      ]
     },
     "execution_count": 22,
     "metadata": {},
     "output_type": "execute_result"
    }
   ],
   "source": [
    "result"
   ]
  },
  {
   "cell_type": "code",
   "execution_count": null,
   "id": "42496f29-2028-4dcd-bf18-c21b2ee11b18",
   "metadata": {},
   "outputs": [],
   "source": []
  }
 ],
 "metadata": {
  "kernelspec": {
   "display_name": "Python 3 (ipykernel)",
   "language": "python",
   "name": "python3"
  },
  "language_info": {
   "codemirror_mode": {
    "name": "ipython",
    "version": 3
   },
   "file_extension": ".py",
   "mimetype": "text/x-python",
   "name": "python",
   "nbconvert_exporter": "python",
   "pygments_lexer": "ipython3",
   "version": "3.11.7"
  }
 },
 "nbformat": 4,
 "nbformat_minor": 5
}
